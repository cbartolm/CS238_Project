{
 "cells": [
  {
   "cell_type": "markdown",
   "metadata": {},
   "source": [
    "# AA228/CS238 Optional Final Project: Escape Roomba\n",
    "\n",
    "## Baseline Model II: Bumper Sensor Heuristic"
   ]
  },
  {
   "cell_type": "code",
   "execution_count": 1,
   "metadata": {},
   "outputs": [
    {
     "data": {
      "text/plain": [
       "\"/Users/cbartolm/Desktop/Projects/CS238_Project/Project.toml\""
      ]
     },
     "execution_count": 1,
     "metadata": {},
     "output_type": "execute_result"
    }
   ],
   "source": [
    "# activate project environment\n",
    "# include these lines of code in any future scripts/notebooks\n",
    "#---\n",
    "import Pkg\n",
    "if !haskey(Pkg.installed(), \"AA228FinalProject\")\n",
    "    jenv = joinpath(dirname(@__FILE__()), \".\") # this assumes the notebook is in the same dir\n",
    "    # as the Project.toml file, which should be in top level dir of the project. \n",
    "    # Change accordingly if this is not the case.\n",
    "    Pkg.activate(jenv)\n",
    "end\n",
    "#---"
   ]
  },
  {
   "cell_type": "code",
   "execution_count": 2,
   "metadata": {
    "scrolled": true
   },
   "outputs": [
    {
     "name": "stderr",
     "output_type": "stream",
     "text": [
      "┌ Info: Recompiling stale cache file /Users/cbartolm/.julia/compiled/v1.0/AA228FinalProject/uFJfC.ji for AA228FinalProject [fe2df5ea-4d44-4e5a-a895-9dbc87b19b37]\n",
      "└ @ Base loading.jl:1187\n",
      "ERROR: LoadError: ArgumentError: Package StaticArrays [90137ffa-7385-5640-81b9-e52037218182] is required but does not seem to be installed:\n",
      " - Run `Pkg.instantiate()` to install all recorded dependencies.\n",
      "\n",
      "Stacktrace:\n",
      " [1] _require(::Base.PkgId) at ./loading.jl:926\n",
      " [2] require(::Base.PkgId) at ./loading.jl:855\n",
      " [3] macro expansion at ./logging.jl:311 [inlined]\n",
      " [4] require(::Module, ::Symbol) at ./loading.jl:837\n",
      " [5] include at ./boot.jl:317 [inlined]\n",
      " [6] include_relative(::Module, ::String) at ./loading.jl:1041\n",
      " [7] include(::Module, ::String) at ./sysimg.jl:29\n",
      " [8] top-level scope at none:2\n",
      " [9] eval at ./boot.jl:319 [inlined]\n",
      " [10] eval(::Expr) at ./client.jl:389\n",
      " [11] top-level scope at ./none:3\n",
      "in expression starting at /Users/cbartolm/Desktop/Projects/CS238_Project/src/AA228FinalProject.jl:5\n"
     ]
    },
    {
     "ename": "ErrorException",
     "evalue": "Failed to precompile AA228FinalProject [fe2df5ea-4d44-4e5a-a895-9dbc87b19b37] to /Users/cbartolm/.julia/compiled/v1.0/AA228FinalProject/uFJfC.ji.",
     "output_type": "error",
     "traceback": [
      "Failed to precompile AA228FinalProject [fe2df5ea-4d44-4e5a-a895-9dbc87b19b37] to /Users/cbartolm/.julia/compiled/v1.0/AA228FinalProject/uFJfC.ji.",
      "",
      "Stacktrace:",
      " [1] error(::String) at ./error.jl:33",
      " [2] macro expansion at ./logging.jl:313 [inlined]",
      " [3] compilecache(::Base.PkgId, ::String) at ./loading.jl:1187",
      " [4] macro expansion at ./logging.jl:311 [inlined]",
      " [5] _require(::Base.PkgId) at ./loading.jl:944",
      " [6] require(::Base.PkgId) at ./loading.jl:855",
      " [7] macro expansion at ./logging.jl:311 [inlined]",
      " [8] require(::Module, ::Symbol) at ./loading.jl:837",
      " [9] top-level scope at In[2]:1"
     ]
    }
   ],
   "source": [
    "# import necessary packages\n",
    "using AA228FinalProject\n",
    "using POMDPs\n",
    "using POMDPPolicies\n",
    "using BeliefUpdaters\n",
    "using ParticleFilters\n",
    "using POMDPSimulators\n",
    "using Cairo\n",
    "using Gtk\n",
    "using Random\n",
    "using Statistics\n",
    "using Printf"
   ]
  },
  {
   "cell_type": "markdown",
   "metadata": {},
   "source": [
    "## Define sensor and construct POMDP\n",
    "\n",
    "In the following cell, we first instantiate a Bump sensor. The Bumper indicates when contact has been made between any part of the Roomba and any wall.\n",
    "\n",
    "Next, we instantiate the MDP, which defines the underlying simulation environment, assuming full observability. The MDP takes many arguments to specify details of the problem. One argument we must specify here is the ```config```. This argument, which can take values 1,2, or 3, specifies the room configuration, with each configuration corresponding to a different location for the goal and stairs. \n",
    "\n",
    "We are going to use the three different configs to see how well the policy does in three different environments. \n",
    "\n",
    "Finally, we instantiate the POMDP. The POMDP takes as an argument the underlying MDP as well as the sensor, which it uses to define the observation model. "
   ]
  },
  {
   "cell_type": "code",
   "execution_count": 3,
   "metadata": {},
   "outputs": [
    {
     "ename": "UndefVarError",
     "evalue": "UndefVarError: Bumper not defined",
     "output_type": "error",
     "traceback": [
      "UndefVarError: Bumper not defined",
      "",
      "Stacktrace:",
      " [1] top-level scope at In[3]:1"
     ]
    }
   ],
   "source": [
    "sensor = Bumper()\n",
    "config = 1 # 1,2, or 3\n",
    "\n",
    "m = RoombaPOMDP(sensor=sensor, mdp=RoombaMDP(config=config));"
   ]
  },
  {
   "cell_type": "markdown",
   "metadata": {},
   "source": [
    "### Setting up a Particle Filter\n",
    "\n",
    "Here, as the state space is high dimensional, we instantiate a particle filter.\n",
    "\n",
    "First, we instantiate a resampler, which is responsible for updating the belief state given an observation. The first argument for both resamplers is the number of particles that represent the belief state. The lidar resampler takes a low-variance resampler as an additional argument, which is responsible for efficiently resampling a weighted set of particles. \n",
    "\n",
    "Next, we instantiate a ```SimpleParticleFilter```, which enables us to perform our belief updates.\n",
    "\n",
    "Finally, we pass this particle filter into a custom struct called a ```RoombaParticleFilter```, which takes two additional arguments. These arguments specify the noise in the velocity and turn-rate, used when propegating particles according to the action taken. These can be tuned depending on the type of sensor used."
   ]
  },
  {
   "cell_type": "code",
   "execution_count": 4,
   "metadata": {},
   "outputs": [
    {
     "ename": "UndefVarError",
     "evalue": "UndefVarError: BumperResampler not defined",
     "output_type": "error",
     "traceback": [
      "UndefVarError: BumperResampler not defined",
      "",
      "Stacktrace:",
      " [1] top-level scope at In[4]:2"
     ]
    }
   ],
   "source": [
    "num_particles = 4000\n",
    "resampler = BumperResampler(num_particles)\n",
    "\n",
    "spf = SimpleParticleFilter(m, resampler)\n",
    "\n",
    "v_noise_coefficient = 2.0\n",
    "om_noise_coefficient = 0.5\n",
    "\n",
    "belief_updater = RoombaParticleFilter(spf, v_noise_coefficient, om_noise_coefficient);"
   ]
  },
  {
   "cell_type": "markdown",
   "metadata": {},
   "source": [
    "### Define a policy : A heuristic based on the bumper sensor\n",
    "\n",
    "First we create a struct that subtypes the Policy abstract type, defined in the package ```POMDPPolicies.jl```. Here, we can also define certain parameters.\n",
    "\n",
    "Next, we define a function that can take in our policy and the belief state and return the desired action. We do this by defining a new ```POMDPs.action``` function that will work with our policy. "
   ]
  },
  {
   "cell_type": "code",
   "execution_count": 5,
   "metadata": {},
   "outputs": [
    {
     "ename": "UndefVarError",
     "evalue": "UndefVarError: Policy not defined",
     "output_type": "error",
     "traceback": [
      "UndefVarError: Policy not defined",
      "",
      "Stacktrace:",
      " [1] top-level scope at none:0"
     ]
    }
   ],
   "source": [
    "# Define the policy to test\n",
    "mutable struct ToEnd <: Policy\n",
    "    num_translation_1::Int64 # Maximum number of translations between wall contacts 1 and 2\n",
    "    num_translation_2::Int64 # Maximum number of translations between wall contacts 2 and 3\n",
    "    num_rot_1::Int64 # Number rotations at the beginning\n",
    "    num_rot_2::Int64 # Number of rotations in first wall contact\n",
    "    num_collisions::Int64 # Number of collisions so far \n",
    "    # (Allows to define a piece-wise policy)\n",
    "end\n",
    "\n",
    "# define a new function that takes in the policy struct and current belief,\n",
    "# and returns the desired action\n",
    "function POMDPs.action(p::ToEnd, b::ParticleCollection{RoombaState})\n",
    "    \n",
    "    v = 4 # Same speed\n",
    "    \n",
    "    # Get goal coordinates\n",
    "    goal_xy = get_goal_xy(m)\n",
    "    goal_x, goal_y = goal_xy\n",
    "    \n",
    "     ## First action:\n",
    "     # Spin around to localize during the first 25 time-steps\n",
    "     ## Useless because we don't have a long range sensor ##\n",
    "    \n",
    "    if p.num_rot_1 < 25\n",
    "        p.num_rot_1 += 1\n",
    "        return RoombaAct(0.,1) \n",
    "    end\n",
    "    p.num_rot_1 += 1\n",
    "    \n",
    "    ## Second action:\n",
    "    # Move until you reach a wall\n",
    "    if p.num_collisions == 0 && !AA228FinalProject.wall_contact(m, particle(b, 1))\n",
    "        return RoombaAct(v, 0)\n",
    "    end\n",
    "    \n",
    "    # Update tracker that counts number of contacts in wall\n",
    "    if p.num_collisions == 0 && AA228FinalProject.wall_contact(m, particle(b, 1))\n",
    "        p.num_collisions = 1 \n",
    "    end\n",
    "    \n",
    "    ## Third action:\n",
    "    # Rotate several times in the first contact wall (max_number = 4)\n",
    "    if p.num_collisions == 1 && p.num_rot_2 <= 4\n",
    "        p.num_rot_2 += 1\n",
    "        return RoombaAct(0., 1)\n",
    "    end\n",
    "    \n",
    "    ## Fourth action:\n",
    "    # Allow 8 translations maximum\n",
    "    if p.num_collisions == 1 && p.num_rot_2 > 4 && p.num_translation_1 <= 8\n",
    "        p.num_translation_1 += 1\n",
    "        return RoombaAct(v, 0.)\n",
    "    end\n",
    "    \n",
    "    \n",
    "    if  p.num_collisions == 1 && p.num_translation_1 > 8\n",
    "        p.num_rot_2 += 1\n",
    "        p.num_collisions = 2 \n",
    "    end\n",
    "\n",
    "    if p.num_collisions == 2 && p.num_rot_2 <= 3\n",
    "        p.num_rot_2 += 1\n",
    "        return RoombaAct(0., -1)\n",
    "    end\n",
    "    \n",
    "    if p.num_collisions == 2 && p.num_rot_2 > 3 && !AA228FinalProject.wall_contact(m, particle(b, 1))\n",
    "        p.num_translation_2 += 1\n",
    "        return RoombaAct(v, 0.)\n",
    "    end  \n",
    "    \n",
    "    if p.num_collisions == 2 && AA228FinalProject.wall_contact(m, particle(b, 1))\n",
    "        p.num_rot_2 = 0\n",
    "        p.num_collisions = 3 \n",
    "    end\n",
    "    \n",
    "    if p.num_collisions == 3 && !AA228FinalProject.wall_contact(m, particle(b, 1))\n",
    "        return RoombaAct(v, 0.)\n",
    "    end\n",
    "    \n",
    "    if p.num_collisions == 3 && p.num_rot_2 <= 2 && AA228FinalProject.wall_contact(m, particle(b, 1))\n",
    "        p.num_rot_2 += 1\n",
    "        return RoombaAct(0., -1 -0.1)\n",
    "    end\n",
    "    \n",
    "    if p.num_collisions == 3 && p.num_rot_2 > 2\n",
    "        p.num_rot_2 = 0\n",
    "        return RoombaAct(v, 0.)\n",
    "    end   \n",
    "    \n",
    "end"
   ]
  },
  {
   "cell_type": "markdown",
   "metadata": {},
   "source": [
    "### Simulation and rendering\n",
    "\n",
    "Here, we will demonstrate how to seed the environment, run a simulation, and render the simulation. To render the simulation, we use the ```Gtk``` package. \n",
    "\n",
    "The simulation is carried out using the ```stepthrough``` function defined in the package ```POMDPSimulators.jl```. During a simulation, a window will open that renders the scene. It may be hidden behind other windows on your desktop."
   ]
  },
  {
   "cell_type": "code",
   "execution_count": 6,
   "metadata": {},
   "outputs": [
    {
     "ename": "UndefVarError",
     "evalue": "UndefVarError: Random not defined",
     "output_type": "error",
     "traceback": [
      "UndefVarError: Random not defined",
      "",
      "Stacktrace:",
      " [1] top-level scope at In[6]:1"
     ]
    }
   ],
   "source": [
    "# first seed the environment\n",
    "Random.seed!(2)\n",
    "\n",
    "# reset the policy\n",
    "p = ToEnd(0,0,0,0,0) # here, the argument sets the time-steps elapsed to 0\n",
    "\n",
    "# run the simulation\n",
    "c = @GtkCanvas()\n",
    "win = GtkWindow(c, \"Roomba Environment\", 600, 600)\n",
    "for (t, step) in enumerate(stepthrough(m, p, belief_updater, max_steps=150))\n",
    "    @guarded draw(c) do widget\n",
    "        \n",
    "        # the following lines render the room, the particles, and the roomba\n",
    "        ctx = getgc(c)\n",
    "        set_source_rgb(ctx,1,1,1)\n",
    "        paint(ctx)\n",
    "        render(ctx, m, step)\n",
    "        \n",
    "        # render some information that can help with debugging\n",
    "        # here, we render the time-step, the state, and the observation\n",
    "        move_to(ctx,300,400)\n",
    "        show_text(ctx, @sprintf(\"t=%d, state=%s, o=%.3f\",t,string(step.s),step.o))\n",
    "    end\n",
    "    show(c)\n",
    "    sleep(0.1) # to slow down the simulation\n",
    "end"
   ]
  },
  {
   "cell_type": "markdown",
   "metadata": {},
   "source": [
    "### Specifying initial states and beliefs\n",
    "If, for debugging purposes, you would like to hard-code a starting location or initial belief state for the roomba, you can do so by taking the following steps.\n",
    "\n",
    "First, we define the initial state using the following line of code:\n",
    "```\n",
    "is = RoombaState(x,y,th,0.)\n",
    "```\n",
    "Where ```x``` and ```y``` are the x,y coordinates of the starting location and ```th``` is the heading in radians. The last entry, ```0.```, respresents whether the state is terminal, and should remain unchanged.\n",
    "\n",
    "If you would like to initialize the Roomba's belief as perfectly localized, you can do so with the following line of code:\n",
    "```\n",
    "b0 = Deterministic(is)\n",
    "```\n",
    "If you would like to initialize the standard unlocalized belief, use these lines:\n",
    "```\n",
    "dist = initialstate_distribution(m)\n",
    "b0 = initialize_belief(belief_updater, dist)\n",
    "```\n",
    "Finally, we call the ```stepthrough``` function using the initial state and belief as follows:\n",
    "```\n",
    "stepthrough(m,planner,belief_updater,b0,is,max_steps=300)\n",
    "```"
   ]
  },
  {
   "cell_type": "markdown",
   "metadata": {},
   "source": [
    "### Evaluation \n",
    "\n",
    "Here, we demonstate a simple evaluation of the policy's performance for a few random seeds. This is meant to serve only as an example, and we encourage you to develop your own evaluation metrics.\n",
    "\n",
    "We intialize the robot using five different random seeds, and simulate its performance for 100 time-steps. We then sum the rewards experienced during its interaction with the environment and track this total reward for the five trials.\n",
    "Finally, we report the mean and standard error for the total reward. The standard error is the standard deviation of a sample set divided by the square root of the number of samples, and represents the uncertainty in the estimate of the mean value."
   ]
  },
  {
   "cell_type": "code",
   "execution_count": 7,
   "metadata": {},
   "outputs": [
    {
     "name": "stdout",
     "output_type": "stream",
     "text": [
      "\u001b[32m\u001b[1m  Updating\u001b[22m\u001b[39m registry at `~/.julia/registries/General`\n",
      "\u001b[32m\u001b[1m  Updating\u001b[22m\u001b[39m git-repo `https://github.com/JuliaRegistries/General.git`\n",
      "\u001b[2K\u001b[?25h[1mFetching:\u001b[22m\u001b[39m [========================================>]  100.0 %.0 %\u001b[32m\u001b[1m  Updating\u001b[22m\u001b[39m registry at `~/.julia/registries/JuliaPOMDP`\n",
      "\u001b[32m\u001b[1m  Updating\u001b[22m\u001b[39m git-repo `https://github.com/JuliaPOMDP/Registry`\n",
      "\u001b[?25l\u001b[2K\u001b[?25h\u001b[32m\u001b[1m Resolving\u001b[22m\u001b[39m package versions...\n",
      "\u001b[32m\u001b[1m Installed\u001b[22m\u001b[39m FIB ────────────────── v0.3.0\n",
      "\u001b[32m\u001b[1m Installed\u001b[22m\u001b[39m Parameters ─────────── v0.10.2\n",
      "\u001b[32m\u001b[1m Installed\u001b[22m\u001b[39m ImageTransformations ─ v0.7.1\n",
      "\u001b[32m\u001b[1m Installed\u001b[22m\u001b[39m DataFrames ─────────── v0.15.1\n",
      "\u001b[32m\u001b[1m Installed\u001b[22m\u001b[39m StaticArrays ───────── v0.10.0\n"
     ]
    },
    {
     "name": "stderr",
     "output_type": "stream",
     "text": [
      "┌ Info: Installed POMCPOW ────────────── v0.2.1\n",
      "└ @ Pkg.Operations /Users/osx/buildbot/slave/package_osx64/build/usr/share/julia/stdlib/v1.0/Pkg/src/Operations.jl:614\n"
     ]
    },
    {
     "name": "stdout",
     "output_type": "stream",
     "text": [
      "\u001b[32m\u001b[1m  Updating\u001b[22m\u001b[39m `~/Desktop/Projects/CS238_Project/Project.toml`\n",
      " \u001b[90m [3b430cce]\u001b[39m\u001b[92m + AEMS v0.1.0\u001b[39m\n",
      " \u001b[90m [d96c9ae4]\u001b[39m\u001b[92m + ARDESPOT v0.2.0\u001b[39m\n",
      " \u001b[90m [d721219e]\u001b[39m\u001b[92m + BasicPOMCP v0.2.1\u001b[39m\n",
      " \u001b[90m [8bb6e9a1]\u001b[39m\u001b[92m + BeliefUpdaters v0.1.1\u001b[39m\n",
      " \u001b[90m [159f3aea]\u001b[39m\u001b[92m + Cairo v0.5.6\u001b[39m\n",
      " \u001b[90m [a93c6f00]\u001b[39m\u001b[92m + DataFrames v0.15.1\u001b[39m\n",
      " \u001b[90m [31c24e10]\u001b[39m\u001b[92m + Distributions v0.16.4\u001b[39m\n",
      " \u001b[90m [13b007ba]\u001b[39m\u001b[92m + FIB v0.3.0\u001b[39m\n",
      " \u001b[90m [a2bd30eb]\u001b[39m\u001b[92m + Graphics v0.4.0\u001b[39m\n",
      " \u001b[90m [4c0ca9eb]\u001b[39m\u001b[92m + Gtk v0.16.4\u001b[39m\n",
      " \u001b[90m [e12ccd36]\u001b[39m\u001b[92m + MCTS v0.2.0\u001b[39m\n",
      " \u001b[90m [30d33687]\u001b[39m\u001b[92m + MCVI v0.2.0\u001b[39m\n",
      " \u001b[90m [b8a86587]\u001b[39m\u001b[92m + NearestNeighbors v0.4.2\u001b[39m\n",
      " \u001b[90m [4c53ee00]\u001b[39m\u001b[92m + POMCPOW v0.2.1\u001b[39m\n",
      " \u001b[90m [08074719]\u001b[39m\u001b[92m + POMDPModelTools v0.1.2\u001b[39m\n",
      " \u001b[90m [182e52fb]\u001b[39m\u001b[92m + POMDPPolicies v0.1.2\u001b[39m\n",
      " \u001b[90m [e0d0a172]\u001b[39m\u001b[92m + POMDPSimulators v0.1.3\u001b[39m\n",
      " \u001b[90m [a575d7f4]\u001b[39m\u001b[92m + POMDPSolve v0.1.1\u001b[39m\n",
      " \u001b[90m [a93abf59]\u001b[39m\u001b[92m + POMDPs v0.7.2\u001b[39m\n",
      " \u001b[90m [d96e819e]\u001b[39m\u001b[92m + Parameters v0.10.2\u001b[39m\n",
      " \u001b[90m [c8b314e2]\u001b[39m\u001b[92m + ParticleFilters v0.2.1\u001b[39m\n",
      " \u001b[90m [3aa3ecc9]\u001b[39m\u001b[92m + QMDP v0.0.0\u001b[39m\n",
      " \u001b[90m [71555da5]\u001b[39m\u001b[92m + Reel v1.1.0\u001b[39m\n",
      " \u001b[90m [cef570c6]\u001b[39m\u001b[92m + SARSOP v0.2.0\u001b[39m\n",
      " \u001b[90m [90137ffa]\u001b[39m\u001b[92m + StaticArrays v0.10.0\u001b[39m\n",
      " \u001b[90m [2a0f44e3]\u001b[39m\u001b[92m + Base64 \u001b[39m\n",
      " \u001b[90m [37e2e46d]\u001b[39m\u001b[92m + LinearAlgebra \u001b[39m\n",
      " \u001b[90m [9a3f8284]\u001b[39m\u001b[92m + Random \u001b[39m\n",
      " \u001b[90m [10745b16]\u001b[39m\u001b[92m + Statistics \u001b[39m\n",
      "\u001b[32m\u001b[1m  Updating\u001b[22m\u001b[39m `~/Desktop/Projects/CS238_Project/Manifest.toml`\n",
      " \u001b[90m [3b430cce]\u001b[39m\u001b[92m + AEMS v0.1.0\u001b[39m\n",
      " \u001b[90m [d96c9ae4]\u001b[39m\u001b[92m + ARDESPOT v0.2.0\u001b[39m\n",
      " \u001b[90m [621f4979]\u001b[39m\u001b[92m + AbstractFFTs v0.3.2\u001b[39m\n",
      " \u001b[90m [1520ce14]\u001b[39m\u001b[92m + AbstractTrees v0.2.1\u001b[39m\n",
      " \u001b[90m [7d9fca2a]\u001b[39m\u001b[92m + Arpack v0.3.0\u001b[39m\n",
      " \u001b[90m [13072b0f]\u001b[39m\u001b[92m + AxisAlgorithms v0.3.0\u001b[39m\n",
      " \u001b[90m [39de3d68]\u001b[39m\u001b[92m + AxisArrays v0.3.0\u001b[39m\n",
      " \u001b[90m [d721219e]\u001b[39m\u001b[92m + BasicPOMCP v0.2.1\u001b[39m\n",
      " \u001b[90m [8bb6e9a1]\u001b[39m\u001b[92m + BeliefUpdaters v0.1.1\u001b[39m\n",
      " \u001b[90m [9e28174c]\u001b[39m\u001b[92m + BinDeps v0.8.10\u001b[39m\n",
      " \u001b[90m [b99e7846]\u001b[39m\u001b[92m + BinaryProvider v0.5.3\u001b[39m\n",
      " \u001b[90m [e1450e63]\u001b[39m\u001b[92m + BufferedStreams v1.0.0\u001b[39m\n",
      " \u001b[90m [a9c8d775]\u001b[39m\u001b[92m + CPUTime v0.1.0\u001b[39m\n",
      " \u001b[90m [159f3aea]\u001b[39m\u001b[92m + Cairo v0.5.6\u001b[39m\n",
      " \u001b[90m [aafaddc9]\u001b[39m\u001b[92m + CatIndices v0.2.0\u001b[39m\n",
      " \u001b[90m [324d7699]\u001b[39m\u001b[92m + CategoricalArrays v0.5.1\u001b[39m\n",
      " \u001b[90m [944b1d66]\u001b[39m\u001b[92m + CodecZlib v0.5.1\u001b[39m\n",
      " \u001b[90m [3da002f7]\u001b[39m\u001b[92m + ColorTypes v0.7.5\u001b[39m\n",
      " \u001b[90m [c3611d14]\u001b[39m\u001b[92m + ColorVectorSpace v0.6.2\u001b[39m\n",
      " \u001b[90m [5ae59095]\u001b[39m\u001b[92m + Colors v0.9.5\u001b[39m\n",
      " \u001b[90m [34da2185]\u001b[39m\u001b[92m + Compat v1.4.0\u001b[39m\n",
      " \u001b[90m [ed09eef8]\u001b[39m\u001b[92m + ComputationalResources v0.3.0\u001b[39m\n",
      " \u001b[90m [8f4d0f93]\u001b[39m\u001b[92m + Conda v1.1.1\u001b[39m\n",
      " \u001b[90m [150eb455]\u001b[39m\u001b[92m + CoordinateTransformations v0.5.0\u001b[39m\n",
      " \u001b[90m [dc8bdbbb]\u001b[39m\u001b[92m + CustomUnitRanges v0.2.0\u001b[39m\n",
      " \u001b[90m [e3df1716]\u001b[39m\u001b[92m + D3Trees v0.3.0\u001b[39m\n",
      " \u001b[90m [a93c6f00]\u001b[39m\u001b[92m + DataFrames v0.15.1\u001b[39m\n",
      " \u001b[90m [9a8bc11e]\u001b[39m\u001b[92m + DataStreams v0.4.1\u001b[39m\n",
      " \u001b[90m [864edb3b]\u001b[39m\u001b[92m + DataStructures v0.14.0\u001b[39m\n",
      " \u001b[90m [4b033969]\u001b[39m\u001b[92m + DiscreteValueIteration v0.3.0\u001b[39m\n",
      " \u001b[90m [b4f34e82]\u001b[39m\u001b[92m + Distances v0.7.3\u001b[39m\n",
      " \u001b[90m [31c24e10]\u001b[39m\u001b[92m + Distributions v0.16.4\u001b[39m\n",
      " \u001b[90m [4f61f5a4]\u001b[39m\u001b[92m + FFTViews v0.2.0\u001b[39m\n",
      " \u001b[90m [7a1cc6ca]\u001b[39m\u001b[92m + FFTW v0.2.4\u001b[39m\n",
      " \u001b[90m [13b007ba]\u001b[39m\u001b[92m + FIB v0.3.0\u001b[39m\n",
      " \u001b[90m [5789e2e9]\u001b[39m\u001b[92m + FileIO v1.0.4\u001b[39m\n",
      " \u001b[90m [53c48c17]\u001b[39m\u001b[92m + FixedPointNumbers v0.5.3\u001b[39m\n",
      " \u001b[90m [c27321d9]\u001b[39m\u001b[92m + Glob v1.2.0\u001b[39m\n",
      " \u001b[90m [a2bd30eb]\u001b[39m\u001b[92m + Graphics v0.4.0\u001b[39m\n",
      " \u001b[90m [4c0ca9eb]\u001b[39m\u001b[92m + Gtk v0.16.4\u001b[39m\n",
      " \u001b[90m [27996c0f]\u001b[39m\u001b[92m + GtkReactive v0.5.2\u001b[39m\n",
      " \u001b[90m [0862f596]\u001b[39m\u001b[92m + HTTPClient v0.2.1\u001b[39m\n",
      " \u001b[90m [d9be37ee]\u001b[39m\u001b[92m + Homebrew v0.7.0\u001b[39m\n",
      " \u001b[90m [bbac6d45]\u001b[39m\u001b[92m + IdentityRanges v0.2.0\u001b[39m\n",
      " \u001b[90m [2803e5a7]\u001b[39m\u001b[92m + ImageAxes v0.5.0\u001b[39m\n",
      " \u001b[90m [a09fc81d]\u001b[39m\u001b[92m + ImageCore v0.7.3\u001b[39m\n",
      " \u001b[90m [51556ac3]\u001b[39m\u001b[92m + ImageDistances v0.1.1\u001b[39m\n",
      " \u001b[90m [6a3955dd]\u001b[39m\u001b[92m + ImageFiltering v0.5.1\u001b[39m\n",
      " \u001b[90m [bc367c6b]\u001b[39m\u001b[92m + ImageMetadata v0.5.2\u001b[39m\n",
      " \u001b[90m [787d08f9]\u001b[39m\u001b[92m + ImageMorphology v0.1.1\u001b[39m\n",
      " \u001b[90m [4e3cecfd]\u001b[39m\u001b[92m + ImageShow v0.1.2\u001b[39m\n",
      " \u001b[90m [02fcd773]\u001b[39m\u001b[92m + ImageTransformations v0.7.1\u001b[39m\n",
      " \u001b[90m [86fae568]\u001b[39m\u001b[92m + ImageView v0.8.1\u001b[39m\n",
      " \u001b[90m [916415d5]\u001b[39m\u001b[92m + Images v0.16.1\u001b[39m\n",
      " \u001b[90m [9b13fd28]\u001b[39m\u001b[92m + IndirectArrays v0.5.0\u001b[39m\n",
      " \u001b[90m [a98d9a8b]\u001b[39m\u001b[92m + Interpolations v0.11.0\u001b[39m\n",
      " \u001b[90m [8197267c]\u001b[39m\u001b[92m + IntervalSets v0.3.1\u001b[39m\n",
      " \u001b[90m [c8e1da08]\u001b[39m\u001b[92m + IterTools v1.1.1\u001b[39m\n",
      " \u001b[90m [82899510]\u001b[39m\u001b[92m + IteratorInterfaceExtensions v0.1.1\u001b[39m\n",
      " \u001b[90m [682c06a0]\u001b[39m\u001b[92m + JSON v0.20.0\u001b[39m\n",
      " \u001b[90m [b27032c2]\u001b[39m\u001b[92m + LibCURL v0.4.1\u001b[39m\n",
      " \u001b[90m [522f3ed2]\u001b[39m\u001b[92m + LibExpat v0.5.0\u001b[39m\n",
      " \u001b[90m [2ec943e9]\u001b[39m\u001b[92m + Libz v1.0.0\u001b[39m\n",
      " \u001b[90m [9c8b4983]\u001b[39m\u001b[92m + LightXML v0.8.0\u001b[39m\n",
      " \u001b[90m [e12ccd36]\u001b[39m\u001b[92m + MCTS v0.2.0\u001b[39m\n",
      " \u001b[90m [30d33687]\u001b[39m\u001b[92m + MCVI v0.2.0\u001b[39m\n",
      " \u001b[90m [1914dd2f]\u001b[39m\u001b[92m + MacroTools v0.4.4\u001b[39m\n",
      " \u001b[90m [dbb5928d]\u001b[39m\u001b[92m + MappedArrays v0.2.1\u001b[39m\n",
      " \u001b[90m [e1d29d7a]\u001b[39m\u001b[92m + Missings v0.3.1\u001b[39m\n",
      " \u001b[90m [77ba4419]\u001b[39m\u001b[92m + NaNMath v0.3.2\u001b[39m\n",
      " \u001b[90m [b8a86587]\u001b[39m\u001b[92m + NearestNeighbors v0.4.2\u001b[39m\n",
      " \u001b[90m [6fe1bfb0]\u001b[39m\u001b[92m + OffsetArrays v0.9.0\u001b[39m\n",
      " \u001b[90m [bac558e1]\u001b[39m\u001b[92m + OrderedCollections v1.0.2\u001b[39m\n",
      " \u001b[90m [90014a1f]\u001b[39m\u001b[92m + PDMats v0.9.6\u001b[39m\n",
      " \u001b[90m [4c53ee00]\u001b[39m\u001b[92m + POMCPOW v0.2.1\u001b[39m\n",
      " \u001b[90m [9cf5b727]\u001b[39m\u001b[92m + POMDPFiles v0.1.1\u001b[39m\n",
      " \u001b[90m [08074719]\u001b[39m\u001b[92m + POMDPModelTools v0.1.2\u001b[39m\n",
      " \u001b[90m [182e52fb]\u001b[39m\u001b[92m + POMDPPolicies v0.1.2\u001b[39m\n",
      " \u001b[90m [e0d0a172]\u001b[39m\u001b[92m + POMDPSimulators v0.1.3\u001b[39m\n",
      " \u001b[90m [a575d7f4]\u001b[39m\u001b[92m + POMDPSolve v0.1.1\u001b[39m\n",
      " \u001b[90m [92e6a534]\u001b[39m\u001b[92m + POMDPTesting v0.1.0\u001b[39m\n",
      " \u001b[90m [c6f6ee83]\u001b[39m\u001b[92m + POMDPXFiles v0.1.0\u001b[39m\n",
      " \u001b[90m [a93abf59]\u001b[39m\u001b[92m + POMDPs v0.7.2\u001b[39m\n",
      " \u001b[90m [5432bcbf]\u001b[39m\u001b[92m + PaddedViews v0.4.2\u001b[39m\n",
      " \u001b[90m [d96e819e]\u001b[39m\u001b[92m + Parameters v0.10.2\u001b[39m\n",
      " \u001b[90m [c8b314e2]\u001b[39m\u001b[92m + ParticleFilters v0.2.1\u001b[39m\n",
      " \u001b[90m [92933f4c]\u001b[39m\u001b[92m + ProgressMeter v0.8.0\u001b[39m\n",
      " \u001b[90m [3aa3ecc9]\u001b[39m\u001b[92m + QMDP v0.0.0\u001b[39m\n",
      " \u001b[90m [1fd47b50]\u001b[39m\u001b[92m + QuadGK v2.0.2\u001b[39m\n",
      " \u001b[90m [b3c3ace0]\u001b[39m\u001b[92m + RangeArrays v0.3.1\u001b[39m\n",
      " \u001b[90m [c84ed2f1]\u001b[39m\u001b[92m + Ratios v0.3.0\u001b[39m\n",
      " \u001b[90m [a223df75]\u001b[39m\u001b[92m + Reactive v0.8.2\u001b[39m\n",
      " \u001b[90m [71555da5]\u001b[39m\u001b[92m + Reel v1.1.0\u001b[39m\n",
      " \u001b[90m [189a3867]\u001b[39m\u001b[92m + Reexport v0.2.0\u001b[39m\n",
      " \u001b[90m [ae029012]\u001b[39m\u001b[92m + Requires v0.5.2\u001b[39m\n",
      " \u001b[90m [79098fc4]\u001b[39m\u001b[92m + Rmath v0.5.0\u001b[39m\n",
      " \u001b[90m [6038ab10]\u001b[39m\u001b[92m + Rotations v0.9.1\u001b[39m\n",
      " \u001b[90m [d5f540fe]\u001b[39m\u001b[92m + RoundingIntegers v0.2.0\u001b[39m\n",
      " \u001b[90m [cef570c6]\u001b[39m\u001b[92m + SARSOP v0.2.0\u001b[39m\n",
      " \u001b[90m [b9d75638]\u001b[39m\u001b[92m + SIUnits v0.1.0\u001b[39m\n",
      " \u001b[90m [699a6c99]\u001b[39m\u001b[92m + SimpleTraits v0.8.0\u001b[39m\n",
      " \u001b[90m [a2af1166]\u001b[39m\u001b[92m + SortingAlgorithms v0.3.1\u001b[39m\n",
      " \u001b[90m [276daf66]\u001b[39m\u001b[92m + SpecialFunctions v0.7.2\u001b[39m\n",
      " \u001b[90m [90137ffa]\u001b[39m\u001b[92m + StaticArrays v0.10.0\u001b[39m\n",
      " \u001b[90m [2913bbd2]\u001b[39m\u001b[92m + StatsBase v0.26.0\u001b[39m\n",
      " \u001b[90m [4c63d2b9]\u001b[39m\u001b[92m + StatsFuns v0.7.0\u001b[39m\n",
      " \u001b[90m [3783bdb8]\u001b[39m\u001b[92m + TableTraits v0.4.0\u001b[39m\n",
      " \u001b[90m [bd369af6]\u001b[39m\u001b[92m + Tables v0.1.12\u001b[39m\n",
      " \u001b[90m [9b435220]\u001b[39m\u001b[92m + TexExtensions v0.1.0\u001b[39m\n",
      " \u001b[90m [06e1c1a7]\u001b[39m\u001b[92m + TiledIteration v0.2.3\u001b[39m\n",
      " \u001b[90m [3bb67fe8]\u001b[39m\u001b[92m + TranscodingStreams v0.8.1\u001b[39m\n",
      " \u001b[90m [30578b45]\u001b[39m\u001b[92m + URIParser v0.4.0\u001b[39m\n",
      " \u001b[90m [81def892]\u001b[39m\u001b[92m + VersionParsing v1.1.3\u001b[39m\n",
      " \u001b[90m [d6d074c3]\u001b[39m\u001b[92m + VideoIO v0.4.0\u001b[39m\n",
      " \u001b[90m [ea10d353]\u001b[39m\u001b[92m + WeakRefStrings v0.5.3\u001b[39m\n",
      " \u001b[90m [c17dfb99]\u001b[39m\u001b[92m + WinRPM v0.4.2\u001b[39m\n",
      " \u001b[90m [efce3f68]\u001b[39m\u001b[92m + WoodburyMatrices v0.4.1\u001b[39m\n",
      " \u001b[90m [2a0f44e3]\u001b[39m\u001b[92m + Base64 \u001b[39m\n",
      " \u001b[90m [ade2ca70]\u001b[39m\u001b[92m + Dates \u001b[39m\n",
      " \u001b[90m [8bb1440f]\u001b[39m\u001b[92m + DelimitedFiles \u001b[39m\n",
      " \u001b[90m [8ba89e20]\u001b[39m\u001b[92m + Distributed \u001b[39m\n",
      " \u001b[90m [9fa8497b]\u001b[39m\u001b[92m + Future \u001b[39m\n",
      " \u001b[90m [b77e0a4c]\u001b[39m\u001b[92m + InteractiveUtils \u001b[39m\n",
      " \u001b[90m [76f85450]\u001b[39m\u001b[92m + LibGit2 \u001b[39m\n",
      " \u001b[90m [8f399da3]\u001b[39m\u001b[92m + Libdl \u001b[39m\n",
      " \u001b[90m [37e2e46d]\u001b[39m\u001b[92m + LinearAlgebra \u001b[39m\n",
      " \u001b[90m [56ddb016]\u001b[39m\u001b[92m + Logging \u001b[39m\n",
      " \u001b[90m [d6f4376e]\u001b[39m\u001b[92m + Markdown \u001b[39m\n",
      " \u001b[90m [a63ad114]\u001b[39m\u001b[92m + Mmap \u001b[39m\n",
      " \u001b[90m [44cfe95a]\u001b[39m\u001b[92m + Pkg \u001b[39m\n",
      " \u001b[90m [de0858da]\u001b[39m\u001b[92m + Printf \u001b[39m\n",
      " \u001b[90m [3fa0cd96]\u001b[39m\u001b[92m + REPL \u001b[39m\n",
      " \u001b[90m [9a3f8284]\u001b[39m\u001b[92m + Random \u001b[39m\n",
      " \u001b[90m [ea8e919c]\u001b[39m\u001b[92m + SHA \u001b[39m\n",
      " \u001b[90m [9e88b42a]\u001b[39m\u001b[92m + Serialization \u001b[39m\n",
      " \u001b[90m [1a1011a3]\u001b[39m\u001b[92m + SharedArrays \u001b[39m\n",
      " \u001b[90m [6462fe0b]\u001b[39m\u001b[92m + Sockets \u001b[39m\n",
      " \u001b[90m [2f01184e]\u001b[39m\u001b[92m + SparseArrays \u001b[39m\n",
      " \u001b[90m [10745b16]\u001b[39m\u001b[92m + Statistics \u001b[39m\n",
      " \u001b[90m [4607b0f0]\u001b[39m\u001b[92m + SuiteSparse \u001b[39m\n",
      " \u001b[90m [8dfed614]\u001b[39m\u001b[92m + Test \u001b[39m\n",
      " \u001b[90m [cf7118a7]\u001b[39m\u001b[92m + UUIDs \u001b[39m\n",
      " \u001b[90m [4ec0a83e]\u001b[39m\u001b[92m + Unicode \u001b[39m\n"
     ]
    }
   ],
   "source": [
    "import Pkg; Pkg.add(\"DataFrames\")"
   ]
  },
  {
   "cell_type": "code",
   "execution_count": 8,
   "metadata": {},
   "outputs": [
    {
     "name": "stdout",
     "output_type": "stream",
     "text": [
      "\u001b[32m\u001b[1m Resolving\u001b[22m\u001b[39m package versions...\n",
      "\u001b[32m\u001b[1m  Updating\u001b[22m\u001b[39m `~/Desktop/Projects/CS238_Project/Project.toml`\n",
      " \u001b[90m [336ed68f]\u001b[39m\u001b[92m + CSV v0.4.3\u001b[39m\n",
      "\u001b[32m\u001b[1m  Updating\u001b[22m\u001b[39m `~/Desktop/Projects/CS238_Project/Manifest.toml`\n",
      " \u001b[90m [336ed68f]\u001b[39m\u001b[92m + CSV v0.4.3\u001b[39m\n",
      " \u001b[90m [69de0a69]\u001b[39m\u001b[92m + Parsers v0.2.15\u001b[39m\n",
      " \u001b[90m [9abbd945]\u001b[39m\u001b[92m + Profile \u001b[39m\n"
     ]
    }
   ],
   "source": [
    "import Pkg; Pkg.add(\"CSV\")"
   ]
  },
  {
   "cell_type": "code",
   "execution_count": null,
   "metadata": {},
   "outputs": [
    {
     "name": "stderr",
     "output_type": "stream",
     "text": [
      "┌ Info: Recompiling stale cache file /Users/cbartolm/.julia/compiled/v1.0/DataFrames/AR9oZ.ji for DataFrames [a93c6f00-e57d-5684-b7b6-d8193f3e46c0]\n",
      "└ @ Base loading.jl:1187\n",
      "┌ Info: Recompiling stale cache file /Users/cbartolm/.julia/compiled/v1.0/CSV/HHBkp.ji for CSV [336ed68f-0bac-5ca0-87d4-7b16caf5d00b]\n",
      "└ @ Base loading.jl:1187\n"
     ]
    }
   ],
   "source": [
    "using DataFrames\n",
    "using CSV\n",
    "\n",
    "start = time()\n",
    "\n",
    "method = \"baseline_bumper\"\n",
    "df = DataFrame(num_experience = Int[], reward = String[])\n",
    "\n",
    "total_rewards = []\n",
    "\n",
    "exps = 30\n",
    "\n",
    "for exp = 1:exps    \n",
    "    \n",
    "    Random.seed!(exp)\n",
    "    \n",
    "    p = ToEnd(0,0,0,0,0)\n",
    "    traj_rewards = sum([step.r for step in stepthrough(m,p,belief_updater, max_steps=150)])\n",
    "    \n",
    "    println(\"Experience: \", string(exp), \"----- Reward: \", traj_rewards)\n",
    "    push!(total_rewards, traj_rewards)\n",
    "    \n",
    "    # Save in a dataframe to finally pull results in a .csv file\n",
    "    push!(df, (exp, string(traj_rewards)))\n",
    "    CSV.write(string(method, \".csv\"), df)\n",
    "end\n",
    "\n",
    "elapsed = time() - start\n",
    "\n",
    "print(\"The total time elapsed in seconds is: \", elapsed, \"\\n\")\n",
    "@printf(\"Mean Total Reward: %.3f, StdErr Total Reward: %.3f\", mean(total_rewards), std(total_rewards)/sqrt(exps))"
   ]
  },
  {
   "cell_type": "code",
   "execution_count": null,
   "metadata": {
    "collapsed": true
   },
   "outputs": [],
   "source": []
  }
 ],
 "metadata": {
  "@webio": {
   "lastCommId": "7eaf0b86a4eb4948809c5b321cc52473",
   "lastKernelId": "62631fb2-5f62-46b5-9e1d-be41590a8238"
  },
  "kernelspec": {
   "display_name": "Julia 1.0.1",
   "language": "julia",
   "name": "julia-1.0"
  },
  "language_info": {
   "file_extension": ".jl",
   "mimetype": "application/julia",
   "name": "julia",
   "version": "1.0.1"
  }
 },
 "nbformat": 4,
 "nbformat_minor": 1
}
